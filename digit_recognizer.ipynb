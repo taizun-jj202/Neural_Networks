{
  "nbformat": 4,
  "nbformat_minor": 0,
  "metadata": {
    "colab": {
      "provenance": [],
      "gpuType": "T4",
      "authorship_tag": "ABX9TyOktC7N/+UiETRF7sITHXcT",
      "include_colab_link": true
    },
    "kernelspec": {
      "name": "python3",
      "display_name": "Python 3"
    },
    "language_info": {
      "name": "python"
    },
    "gpuClass": "standard"
  },
  "cells": [
    {
      "cell_type": "markdown",
      "metadata": {
        "id": "view-in-github",
        "colab_type": "text"
      },
      "source": [
        "<a href=\"https://colab.research.google.com/github/taizun-jj202/Neural_Networks/blob/digit_recog/digit_recognizer.ipynb\" target=\"_parent\"><img src=\"https://colab.research.google.com/assets/colab-badge.svg\" alt=\"Open In Colab\"/></a>"
      ]
    },
    {
      "cell_type": "code",
      "execution_count": 6,
      "metadata": {
        "id": "6H21ZBVRdcLn"
      },
      "outputs": [],
      "source": [
        "#Importing all the required libraries\n",
        "\n",
        "import torch\n",
        "import torch.nn as nn\n",
        "import torchvision\n",
        "import matplotlib.pyplot as plt\n",
        "import torchvision.transforms as transforms"
      ]
    },
    {
      "cell_type": "code",
      "source": [
        "#Running the NN on a GPU if available\n",
        "device = torch.device(\"cuda\" if torch.cuda.is_available() else \"cpu\")\n",
        "device"
      ],
      "metadata": {
        "colab": {
          "base_uri": "https://localhost:8080/"
        },
        "id": "Amr77n0odo4_",
        "outputId": "b96e5b16-33c4-4c98-8091-1bed983da5de"
      },
      "execution_count": null,
      "outputs": [
        {
          "output_type": "execute_result",
          "data": {
            "text/plain": [
              "device(type='cuda')"
            ]
          },
          "metadata": {},
          "execution_count": 45
        }
      ]
    },
    {
      "cell_type": "code",
      "source": [
        "#Definig the different parameters\n",
        "num_epochs = 10\n",
        "num_classes = 10 #Multi-class clasification (i.e there are 10 digits)\n",
        "learning_rate = 0.001\n",
        "batch_size = 50\n",
        "input_size = 784 #Because we flatten a 28*28 image into a single row and feed the row as input\n",
        "hidden_layers = 100"
      ],
      "metadata": {
        "id": "jiBKGeBtdpEl"
      },
      "execution_count": null,
      "outputs": []
    },
    {
      "cell_type": "code",
      "source": [
        "train_data = torchvision.datasets.MNIST(root = \"./dataset\", train = True, transform = transforms.ToTensor(), download = True)\n",
        "test_data = torchvision.datasets.MNIST(root = \"./dataset\", train = False, transform = transforms.ToTensor(), download = True)\n",
        "print(\"Size of training data: {}\".format(len(train_data)))\n",
        "print(\"Size of testing data : {}\".format(len(test_data)))\n",
        "\n",
        "#Below lines give us the samples for training and testing\n",
        "train_loader = torch.utils.data.DataLoader(dataset = train_data, batch_size = batch_size, shuffle = True, num_workers=2)\n",
        "test_loader = torch.utils.data.DataLoader(dataset = test_data, batch_size = batch_size, shuffle = False, num_workers=2)\n"
      ],
      "metadata": {
        "id": "ltlJ6yxlfDI7",
        "colab": {
          "base_uri": "https://localhost:8080/"
        },
        "outputId": "66acd99b-9d98-42b3-d232-fb5d9aaf562d"
      },
      "execution_count": null,
      "outputs": [
        {
          "output_type": "stream",
          "name": "stdout",
          "text": [
            "Size of training data: 60000\n",
            "Size of testing data : 10000\n"
          ]
        }
      ]
    },
    {
      "cell_type": "code",
      "source": [
        "#Checking if the data has been properly assigned/shaped or not\n",
        "checkdata = iter(train_loader)\n",
        "img, lab = next(checkdata)\n",
        "print(img.shape, lab.shape)"
      ],
      "metadata": {
        "colab": {
          "base_uri": "https://localhost:8080/"
        },
        "id": "cNLO4vAFghEa",
        "outputId": "2d13c7c3-4a03-4691-acd9-ae46749964bb"
      },
      "execution_count": null,
      "outputs": [
        {
          "output_type": "stream",
          "name": "stdout",
          "text": [
            "torch.Size([50, 1, 28, 28]) torch.Size([50])\n"
          ]
        }
      ]
    },
    {
      "cell_type": "markdown",
      "source": [],
      "metadata": {
        "id": "rLpnMPUcJHV4"
      }
    },
    {
      "cell_type": "code",
      "source": [
        "for i in range(9):\n",
        "  print(lab[i])\n",
        "  plt.subplot(3,3,i+1)\n",
        "  plt.imshow(img[i][0], cmap = \"gray\")\n",
        "plt.show()"
      ],
      "metadata": {
        "colab": {
          "base_uri": "https://localhost:8080/",
          "height": 597
        },
        "id": "NemzQOOEg0IG",
        "outputId": "36200631-bfc9-4fd8-8507-9a552aef5fe9"
      },
      "execution_count": null,
      "outputs": [
        {
          "output_type": "stream",
          "name": "stdout",
          "text": [
            "tensor(7)\n",
            "tensor(5)\n",
            "tensor(7)\n",
            "tensor(7)\n",
            "tensor(4)\n",
            "tensor(6)\n",
            "tensor(8)\n",
            "tensor(1)\n",
            "tensor(1)\n"
          ]
        },
        {
          "output_type": "display_data",
          "data": {
            "text/plain": [
              "<Figure size 640x480 with 9 Axes>"
            ],
            "image/png": "[encoded data removed]"
          },
          "metadata": {}
        }
      ]
    },
    {
      "cell_type": "code",
      "source": [
        "#Actual Digital Recognition logic \n",
        "\n",
        "class digit_recon(nn.Module):\n",
        "\n",
        "  def __init__(self, input_size, hidden_layers, num_classes):\n",
        "    super(digit_recon, self).__init__()\n",
        "    #First layer is given below\n",
        "    self.input = nn.Linear(in_features = input_size, out_features = hidden_layers)\n",
        "    self.relu_1 = nn.ReLU() #Invoking the activation function\n",
        "    self.hidden_1 = nn.Linear(in_features = hidden_layers, out_features = hidden_layers)\n",
        "    self.relu_2 = nn.ReLU()\n",
        "    self.hidden_2 = nn.Linear(in_features = hidden_layers, out_features = hidden_layers)\n",
        "    self.relu_3 = nn.ReLU()\n",
        "    self.hidden_3 = nn.Linear(in_features = hidden_layers, out_features = hidden_layers)\n",
        "    self.relu_4 = nn.ReLU() \n",
        "    self.output = nn.Linear(in_features = hidden_layers, out_features = num_classes)\n",
        "\n",
        "  def forward(self,x):  \n",
        "    model = self.input(x)\n",
        "    model = self.relu_1(model)\n",
        "    model = self.hidden_1(model)\n",
        "    model = self.relu_2(model)\n",
        "    model = self.hidden_2(model)\n",
        "    model = self.relu_3(model)\n",
        "    model = self.hidden_3(model)\n",
        "    model = self.relu_4(model)\n",
        "    model = self.output(model)\n",
        "\n",
        "    return model\n"
      ],
      "metadata": {
        "id": "4djQPGZFiOmb",
        "colab": {
          "base_uri": "https://localhost:8080/",
          "height": 244
        },
        "outputId": "ba5cbca0-e9e3-42ac-f13b-51aa8bf18271"
      },
      "execution_count": 5,
      "outputs": [
        {
          "output_type": "error",
          "ename": "NameError",
          "evalue": "ignored",
          "traceback": [
            "\u001b[0;31m---------------------------------------------------------------------------\u001b[0m",
            "\u001b[0;31mNameError\u001b[0m                                 Traceback (most recent call last)",
            "\u001b[0;32m<ipython-input-5-ac8aa163ce5d>\u001b[0m in \u001b[0;36m<cell line: 3>\u001b[0;34m()\u001b[0m\n\u001b[1;32m      1\u001b[0m \u001b[0;31m#Actual Digital Recognition logic\u001b[0m\u001b[0;34m\u001b[0m\u001b[0;34m\u001b[0m\u001b[0m\n\u001b[1;32m      2\u001b[0m \u001b[0;34m\u001b[0m\u001b[0m\n\u001b[0;32m----> 3\u001b[0;31m \u001b[0;32mclass\u001b[0m \u001b[0mdigit_recon\u001b[0m\u001b[0;34m(\u001b[0m\u001b[0mnn\u001b[0m\u001b[0;34m.\u001b[0m\u001b[0mModule\u001b[0m\u001b[0;34m)\u001b[0m\u001b[0;34m:\u001b[0m\u001b[0;34m\u001b[0m\u001b[0;34m\u001b[0m\u001b[0m\n\u001b[0m\u001b[1;32m      4\u001b[0m \u001b[0;34m\u001b[0m\u001b[0m\n\u001b[1;32m      5\u001b[0m   \u001b[0;32mdef\u001b[0m \u001b[0m__init__\u001b[0m\u001b[0;34m(\u001b[0m\u001b[0mself\u001b[0m\u001b[0;34m,\u001b[0m \u001b[0minput_size\u001b[0m\u001b[0;34m,\u001b[0m \u001b[0mhidden_layers\u001b[0m\u001b[0;34m,\u001b[0m \u001b[0mnum_classes\u001b[0m\u001b[0;34m)\u001b[0m\u001b[0;34m:\u001b[0m\u001b[0;34m\u001b[0m\u001b[0;34m\u001b[0m\u001b[0m\n",
            "\u001b[0;31mNameError\u001b[0m: name 'nn' is not defined"
          ]
        }
      ]
    },
    {
      "cell_type": "code",
      "source": [
        "#Visualising the neural network\n",
        "model = digit_recon(input_size, hidden_layers, num_classes)\n",
        "repr(model)"
      ],
      "metadata": {
        "colab": {
          "base_uri": "https://localhost:8080/",
          "height": 207
        },
        "id": "2zHwspZXkL3c",
        "outputId": "68af8b75-4934-4004-f4fa-156f994d3e8c"
      },
      "execution_count": 4,
      "outputs": [
        {
          "output_type": "error",
          "ename": "NameError",
          "evalue": "ignored",
          "traceback": [
            "\u001b[0;31m---------------------------------------------------------------------------\u001b[0m",
            "\u001b[0;31mNameError\u001b[0m                                 Traceback (most recent call last)",
            "\u001b[0;32m<ipython-input-4-145c177d5b30>\u001b[0m in \u001b[0;36m<cell line: 2>\u001b[0;34m()\u001b[0m\n\u001b[1;32m      1\u001b[0m \u001b[0;31m#Visualising the neural network\u001b[0m\u001b[0;34m\u001b[0m\u001b[0;34m\u001b[0m\u001b[0m\n\u001b[0;32m----> 2\u001b[0;31m \u001b[0mmodel\u001b[0m \u001b[0;34m=\u001b[0m \u001b[0mdigit_recon\u001b[0m\u001b[0;34m(\u001b[0m\u001b[0minput_size\u001b[0m\u001b[0;34m,\u001b[0m \u001b[0mhidden_layers\u001b[0m\u001b[0;34m,\u001b[0m \u001b[0mnum_classes\u001b[0m\u001b[0;34m)\u001b[0m\u001b[0;34m\u001b[0m\u001b[0;34m\u001b[0m\u001b[0m\n\u001b[0m\u001b[1;32m      3\u001b[0m \u001b[0mrepr\u001b[0m\u001b[0;34m(\u001b[0m\u001b[0mmodel\u001b[0m\u001b[0;34m)\u001b[0m\u001b[0;34m\u001b[0m\u001b[0;34m\u001b[0m\u001b[0m\n",
            "\u001b[0;31mNameError\u001b[0m: name 'digit_recon' is not defined"
          ]
        }
      ]
    },
    {
      "cell_type": "code",
      "source": [
        "#Defining the Loss function and optimizer\n",
        "criterion = nn.CrossEntropyLoss()\n",
        "optimizer = torch.optim.Adam(model.parameters(), lr = learning_rate)"
      ],
      "metadata": {
        "id": "n_wk8WWOiU9P"
      },
      "execution_count": null,
      "outputs": []
    },
    {
      "cell_type": "code",
      "source": [
        "#Code for training the model\n",
        "\n",
        "#checking the number of samples\n",
        "samples = len(train_loader)\n",
        "samples"
      ],
      "metadata": {
        "colab": {
          "base_uri": "https://localhost:8080/"
        },
        "id": "0z0e8nZ-_iZs",
        "outputId": "58385169-1f8f-4553-cdfe-b7967dd97922"
      },
      "execution_count": null,
      "outputs": [
        {
          "output_type": "execute_result",
          "data": {
            "text/plain": [
              "1200"
            ]
          },
          "metadata": {},
          "execution_count": 53
        }
      ]
    },
    {
      "cell_type": "code",
      "source": [
        "model = model.to(device)"
      ],
      "metadata": {
        "id": "ZqD0xy4Q_7Wu"
      },
      "execution_count": null,
      "outputs": []
    },
    {
      "cell_type": "code",
      "source": [
        "#Training loop that sets the weights and biases\n",
        "for epoch in range(num_epochs):\n",
        "  #Loop for batch training\n",
        "  for (images, labels) in train_loader:\n",
        "    images = images.reshape(-1,784).to(device)\n",
        "    labels = labels.to(device)\n",
        "\n",
        "    outputs = model(images)\n",
        "    loss = criterion(outputs, labels)\n",
        "\n",
        "    #Backpropagating\n",
        "    optimizer.zero_grad()\n",
        "    loss.backward()\n",
        "    optimizer.step()\n",
        "\n",
        "    #print(\"Epoch : {}/{}, step: {}/{}, Loss: {:.4f}\".format(epoch,num_epochs,step,samples,loss.item()))"
      ],
      "metadata": {
        "id": "X2OVGVocAC-_"
      },
      "execution_count": null,
      "outputs": []
    },
    {
      "cell_type": "code",
      "source": [
        "print (outputs.shape)"
      ],
      "metadata": {
        "colab": {
          "base_uri": "https://localhost:8080/"
        },
        "id": "Fx4YFXb9TEY9",
        "outputId": "5962b26e-4243-4d20-a25b-ead10ab58593"
      },
      "execution_count": null,
      "outputs": [
        {
          "output_type": "stream",
          "name": "stdout",
          "text": [
            "torch.Size([50, 10])\n"
          ]
        }
      ]
    },
    {
      "cell_type": "code",
      "source": [
        "#Finding the accuracy of the model\n",
        "\n",
        "def model_test():\n",
        "    with torch.no_grad(): #Disables gradient calculation\n",
        "      correct = 0\n",
        "      tot_samples = 0\n",
        "\n",
        "      for (images, lab) in test_loader:\n",
        "        images = images.reshape(-1,784).to(device)\n",
        "        lab = lab.to(device)\n",
        "\n",
        "        #Getting the highest predicted value for the classes\n",
        "        #Highest probability given to the class that model predicts is correct\n",
        "        outputs = model(images)\n",
        "        _ , predicted = torch.max(outputs,1)\n",
        "        tot_samples += len(lab)\n",
        "        correct += (predicted == lab).sum().item()\n",
        "\n",
        "    accuracy = 100 * (correct / tot_samples)\n",
        "    print(\"Accuracy : {}\".format(accuracy))\n",
        "\n",
        "model_test()"
      ],
      "metadata": {
        "id": "K-TaBaXCJalB",
        "colab": {
          "base_uri": "https://localhost:8080/"
        },
        "outputId": "6441f558-250a-4e8a-cc8e-51595ad74953"
      },
      "execution_count": null,
      "outputs": [
        {
          "output_type": "stream",
          "name": "stdout",
          "text": [
            "Accuracy : 97.88\n"
          ]
        }
      ]
    },
    {
      "cell_type": "code",
      "source": [
        "#Saving the model\n",
        "from google.colab import drive\n",
        "drive.mount('/content/gdrive')\n",
        "PATH = \"/content/gdrive/My Drive/Saved_NN_Models/digit_recognizer.pt\"\n",
        "torch.save(model.state_dict(), '/content/gdrive/My Drive/Saved_NN_Models/digit_recognizer.pt')"
      ],
      "metadata": {
        "id": "29x_6rWAUapm",
        "colab": {
          "base_uri": "https://localhost:8080/"
        },
        "outputId": "3b586c1e-624e-432d-d1ce-cd00c50036e7"
      },
      "execution_count": null,
      "outputs": [
        {
          "output_type": "stream",
          "name": "stdout",
          "text": [
            "Drive already mounted at /content/gdrive; to attempt to forcibly remount, call drive.mount(\"/content/gdrive\", force_remount=True).\n"
          ]
        }
      ]
    },
    {
      "cell_type": "code",
      "source": [
        "#Loading the values that we saved prior \n",
        "model.load_state_dict(torch.load('/content/gdrive/My Drive/Saved_NN_Models/digit_recognizer.pt'))"
      ],
      "metadata": {
        "colab": {
          "base_uri": "https://localhost:8080/"
        },
        "id": "S1LVhIV0XM81",
        "outputId": "b9b3971e-a4ca-4e1b-89d9-afee45aa1cbb"
      },
      "execution_count": null,
      "outputs": [
        {
          "output_type": "execute_result",
          "data": {
            "text/plain": [
              "<All keys matched successfully>"
            ]
          },
          "metadata": {},
          "execution_count": 63
        }
      ]
    },
    {
      "cell_type": "code",
      "source": [
        "#Testing the accuracy of the model after importing the saved wieghts and biases\n",
        "model_test()"
      ],
      "metadata": {
        "colab": {
          "base_uri": "https://localhost:8080/"
        },
        "id": "1j2aQn0gxLE5",
        "outputId": "b8d8a096-66b3-41af-9f8e-9fc8cd25273d"
      },
      "execution_count": null,
      "outputs": [
        {
          "output_type": "stream",
          "name": "stdout",
          "text": [
            "Accuracy : 97.88\n"
          ]
        }
      ]
    }
  ]
}