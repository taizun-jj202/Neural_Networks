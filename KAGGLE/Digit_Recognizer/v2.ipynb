{
 "cells": [
  {
   "cell_type": "code",
   "execution_count": null,
   "metadata": {},
   "outputs": [],
   "source": [
    "import torch\n",
    "import torch.nn as nn\n",
    "import torch.nn.functional as F\n",
    "import pandas as pd\n",
    "from torch.utils.data import DataLoader\n"
   ]
  },
  {
   "cell_type": "code",
   "execution_count": null,
   "metadata": {},
   "outputs": [],
   "source": [
    "\n",
    "# Setting device to GPU if available\n",
    "device = 'cuda' if torch.cuda.is_available() else 'cpu'\n"
   ]
  },
  {
   "cell_type": "code",
   "execution_count": null,
   "metadata": {},
   "outputs": [],
   "source": [
    "\n",
    "# Loading train and test csv files\n",
    "train_set = pd.read_csv('train.csv')\n",
    "test_set  = pd.read_csv('test.csv')\n",
    "print(\"train_set dimensions: {}\".format(train_set.shape))\n",
    "print(\"test_set dimensions : {}\".format(test_set.shape))\n",
    "\n"
   ]
  },
  {
   "cell_type": "code",
   "execution_count": null,
   "metadata": {},
   "outputs": [],
   "source": [
    "\n",
    "# Converting variables to tensor\n",
    "train_set = torch.tensor(train_set.values)\n",
    "test_set = torch.tensor(test_set.values)\n"
   ]
  },
  {
   "cell_type": "code",
   "execution_count": null,
   "metadata": {},
   "outputs": [],
   "source": [
    "\n",
    "# Separating pixel data and labels from train_set\n",
    "imgs = train_set[:,1:]\n",
    "imgs.to(device)\n",
    "labels = torch.unsqueeze(train_set[:,0],dim=1)\n",
    "labels.to(device)\n",
    "# print(labels.shape)\n"
   ]
  },
  {
   "cell_type": "code",
   "execution_count": null,
   "metadata": {},
   "outputs": [],
   "source": [
    "\n",
    "# CNN model for classification:\n",
    "class  dig_reg(nn.Module):\n",
    "\n",
    "    def __init__(self):\n",
    "        super().__init__()\n",
    "        self.conv1 = nn.Conv2d(in_channels=1, out_channels=9, kernel_size=(3, 3), padding=(1, 1), stride=(1, 1))\n",
    "        self.pool1 = nn.MaxPool2d(kernel_size=(1, 1), stride=(1, 1))  # MaxPool to extract most prominent features of the image and also downsample image\n",
    "        self.conv2 = nn.Conv2d(in_channels=9, out_channels=36, kernel_size=(3, 3), stride=(1, 1))\n",
    "        self.pool2 = nn.MaxPool2d(kernel_size=(1, 1), stride=(1, 1))  # MaxPool to remove translation errors(i.e even in features move, to this that is not a concern\n",
    "        self.fc1 = nn.Linear(in_features=28 * 28 * 36, out_features=2000)\n",
    "        self.fc2 = nn.Linear(in_features=2000, out_features=500)\n",
    "        self.fc3 = nn.Linear(in_features=500, out_features=10)\n",
    "\n",
    "    def forward(self, x):\n",
    "        x = F.relu(self.conv1(x))\n",
    "        x = F.relu(self.pool1(x))\n",
    "        x = F.relu(self.conv2(x))\n",
    "        x = F.relu(self.pool2(x))\n",
    "        x = x.reshape(x.shape[0], -1)\n",
    "        x = F.relu(self.fc1(x))\n",
    "        x = F.relu(self.fc2(x))\n",
    "        x = self.fc3(x)\n",
    "\n",
    "        return x\n"
   ]
  },
  {
   "cell_type": "code",
   "execution_count": null,
   "metadata": {},
   "outputs": [],
   "source": [
    "\n",
    "# Hyper-parameters\n",
    "learning_rate = 0.001\n",
    "num_epochs = 5\n",
    "batch_size = 64\n",
    "\n"
   ]
  },
  {
   "cell_type": "code",
   "execution_count": null,
   "metadata": {},
   "outputs": [],
   "source": [
    "# Creating instance of NN, loss func, optimizer\n",
    "model = dig_reg()\n",
    "model.to(device)\n",
    "loss_fn = nn.CrossEntropyLoss()\n",
    "optimizer = torch.optim.Adam(model.parameters(), lr = learning_rate)\n",
    "\n",
    "# Dividing model into batches\n",
    "train_batches = DataLoader(dataset=train_set,\n",
    "                           batch_size=batch_size,\n",
    "                           shuffle=True)\n"
   ]
  },
  {
   "cell_type": "code",
   "execution_count": null,
   "metadata": {},
   "outputs": [],
   "source": [
    "\n",
    "# Creating training function for the model:\n",
    "def model_train():\n",
    "\n",
    "    print(\"-----------------------------------------------\")\n",
    "    print(\"Initializing model training\")\n",
    "    print(\"-----------------------------------------------\")\n",
    "    for epoch in range(num_epochs):\n",
    "        for batch in train_batches:\n",
    "            # imgs = batch[:, 1:].to(device)\n",
    "            imgs = train_set[:, 1:].reshape(-1, 1, 28, 28)\n",
    "            labels = torch.unsqueeze(batch[:, 0], dim=1).to(device)\n",
    "            imgs, labels = imgs.to(device, dtype=torch.float32), labels.to(device, dtype = torch.long )\n",
    "\n",
    "            loss = loss_fn(model(imgs), labels)\n",
    "            optimizer.zero_grad()\n",
    "            loss.backward()\n",
    "            optimizer.step()\n"
   ]
  },
  {
   "cell_type": "code",
   "execution_count": null,
   "metadata": {},
   "outputs": [],
   "source": [
    "\n",
    "model_train()\n"
   ]
  },
  {
   "cell_type": "code",
   "execution_count": null,
   "metadata": {},
   "outputs": [],
   "source": []
  },
  {
   "cell_type": "code",
   "execution_count": null,
   "metadata": {},
   "outputs": [],
   "source": []
  },
  {
   "cell_type": "code",
   "execution_count": null,
   "metadata": {},
   "outputs": [],
   "source": []
  },
  {
   "cell_type": "code",
   "execution_count": null,
   "metadata": {},
   "outputs": [],
   "source": []
  },
  {
   "cell_type": "code",
   "execution_count": null,
   "metadata": {},
   "outputs": [],
   "source": []
  }
 ],
 "metadata": {
  "language_info": {
   "name": "python"
  },
  "orig_nbformat": 4
 },
 "nbformat": 4,
 "nbformat_minor": 2
}
